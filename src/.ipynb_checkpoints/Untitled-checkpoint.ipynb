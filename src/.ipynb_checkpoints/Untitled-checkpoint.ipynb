{
 "cells": [
  {
   "cell_type": "code",
   "execution_count": 9,
   "metadata": {},
   "outputs": [],
   "source": [
    "import numpy as np\n",
    "from Bio.PDB import *"
   ]
  },
  {
   "cell_type": "code",
   "execution_count": 58,
   "metadata": {},
   "outputs": [],
   "source": [
    "def get_pdb(pdb):\n",
    "    p = PDBParser(QUIET=True) # QUIET=T : Warnings issued are suppressed\n",
    "    pdb = p.get_structure(pdb,pdb)\n",
    "\n",
    "    resList = [] # List of Residue instances\n",
    "\n",
    "    for chain in pdb.get_chains():\n",
    "        # First residue of the current chain\n",
    "        first = next(res.id[1] for res in chain.get_residues() if (res.id[1] < 99999))\n",
    "\n",
    "        # Last residue of the current chain\n",
    "        for res in chain.get_residues():\n",
    "            if (res.get_id()[0] != ' '):\n",
    "                break\n",
    "            last = res.get_id()[1]\n",
    "\n",
    "        for resNum in range(first,last+1):\n",
    "            r = Residue(chain, resNum)\n",
    "            resList.append(r)\n",
    "    return resList\n",
    "\n",
    "\n",
    "def calc_dist_matrix(query, template, dist_range, gap_penalty):\n",
    "    \"\"\"\n",
    "        Calculate the matrix of distances between the residues of the query sequence.\n",
    "        Using the coordinates of the template sequence: threading of the query\n",
    "        on the template sequence.\n",
    "        The distance calculation is optimized.\n",
    "\n",
    "        Args:\n",
    "            query: List of residues of the query sequence\n",
    "            template: List of residues of the template sequence\n",
    "            dist_range: Range of distances in angströms. Distances within this\n",
    "                        range only are taken into account\n",
    "            gap_penalty: Penalization of gaps (integer)\n",
    "        Returns:\n",
    "            matrix: The distance matrix between pairs of residues of the query\n",
    "                     sequence after being threaded on the template sequence.\n",
    "    \"\"\"\n",
    "\n",
    "    size = len(query)\n",
    "    matrix = np.empty((size, size), np.float)\n",
    "    # use the query only for indexes\n",
    "    for i, res_row in enumerate(query):\n",
    "        for j, res_col in enumerate(query):\n",
    "            # Penalize gaps\n",
    "            if template[i] == \"X\" or template[j] == \"X\":\n",
    "                matrix[i, j] = gap_penalty\n",
    "            # distance = sqrt((xa-xb)**2 + (ya-yb)**2 + (za-zb)**2)\n",
    "            # The method here is a more efficient way of calculating the\n",
    "            # distance then the numpy function np.linalg.norm(A-B)\n",
    "            # https://stackoverflow.com/a/47775357/6401758\n",
    "            print(template[i].CA_coords, template[j].CA_coords)\n",
    "            a_min_b = template[i].CA_coords - template[j].CA_coords\n",
    "            dist = np.sqrt(np.einsum('ij,ij', a_min_b, a_min_b))\n",
    "            # Keep distances only in a defined range\n",
    "            if dist_range[0] <= dist <= dist_range[1]:\n",
    "                matrix[i, j] = dist\n",
    "    return matrix\n",
    "\n",
    "\n",
    "class Residue:\n",
    "    \"\"\"Class that groups informations about a residue.\"\"\"\n",
    "    def __init__(self, chain, resNum):\n",
    "        \"\"\"The constructor of an instance of the Residue class.\"\"\"\n",
    "        self.resNum = resNum\n",
    "        self.resName = chain[self.resNum].get_resname()\n",
    "        self.CA_coords = chain[self.resNum]['CA'].get_vector()"
   ]
  },
  {
   "cell_type": "code",
   "execution_count": 59,
   "metadata": {},
   "outputs": [],
   "source": [
    "query = \"AGLPVIMCLKSNNHQKYLRYQSDNIQQYGLLQFSADKILDPLAQFEVEPSKTYDGLVHIKSRYTNKYLVRWSPNHYWITASANEPDENKSNWACTLFKPLYVEEGNMKKVRLLHVQLGHYTQNYTVGGSFVSYLFAESSQIDTGSKDVFHVID\"\n",
    "template = get_pdb(\"../data/1jlxa1.atm\")\n",
    "dist_range = [5, 10]\n",
    "gap_penalty = -3"
   ]
  },
  {
   "cell_type": "code",
   "execution_count": 60,
   "metadata": {},
   "outputs": [
    {
     "name": "stdout",
     "output_type": "stream",
     "text": [
      "<Vector 73.67, 72.61, -11.29> <Vector 73.67, 72.61, -11.29>\n"
     ]
    },
    {
     "ename": "ValueError",
     "evalue": "einstein sum subscripts string contains too many subscripts for operand 0",
     "output_type": "error",
     "traceback": [
      "\u001b[0;31m---------------------------------------------------------------------------\u001b[0m",
      "\u001b[0;31mValueError\u001b[0m                                Traceback (most recent call last)",
      "\u001b[0;32m<ipython-input-60-942b99bc2a3d>\u001b[0m in \u001b[0;36m<module>\u001b[0;34m\u001b[0m\n\u001b[0;32m----> 1\u001b[0;31m \u001b[0mdist_matrix\u001b[0m \u001b[0;34m=\u001b[0m \u001b[0mcalc_dist_matrix\u001b[0m\u001b[0;34m(\u001b[0m\u001b[0mquery\u001b[0m\u001b[0;34m,\u001b[0m \u001b[0mtemplate\u001b[0m\u001b[0;34m,\u001b[0m \u001b[0mdist_range\u001b[0m\u001b[0;34m,\u001b[0m \u001b[0mgap_penalty\u001b[0m\u001b[0;34m)\u001b[0m\u001b[0;34m\u001b[0m\u001b[0m\n\u001b[0m",
      "\u001b[0;32m<ipython-input-58-f939145dce01>\u001b[0m in \u001b[0;36mcalc_dist_matrix\u001b[0;34m(query, template, dist_range, gap_penalty)\u001b[0m\n\u001b[1;32m     53\u001b[0m             \u001b[0mprint\u001b[0m\u001b[0;34m(\u001b[0m\u001b[0mtemplate\u001b[0m\u001b[0;34m[\u001b[0m\u001b[0mi\u001b[0m\u001b[0;34m]\u001b[0m\u001b[0;34m.\u001b[0m\u001b[0mCA_coords\u001b[0m\u001b[0;34m,\u001b[0m \u001b[0mtemplate\u001b[0m\u001b[0;34m[\u001b[0m\u001b[0mj\u001b[0m\u001b[0;34m]\u001b[0m\u001b[0;34m.\u001b[0m\u001b[0mCA_coords\u001b[0m\u001b[0;34m)\u001b[0m\u001b[0;34m\u001b[0m\u001b[0m\n\u001b[1;32m     54\u001b[0m             \u001b[0ma_min_b\u001b[0m \u001b[0;34m=\u001b[0m \u001b[0mtemplate\u001b[0m\u001b[0;34m[\u001b[0m\u001b[0mi\u001b[0m\u001b[0;34m]\u001b[0m\u001b[0;34m.\u001b[0m\u001b[0mCA_coords\u001b[0m \u001b[0;34m-\u001b[0m \u001b[0mtemplate\u001b[0m\u001b[0;34m[\u001b[0m\u001b[0mj\u001b[0m\u001b[0;34m]\u001b[0m\u001b[0;34m.\u001b[0m\u001b[0mCA_coords\u001b[0m\u001b[0;34m\u001b[0m\u001b[0m\n\u001b[0;32m---> 55\u001b[0;31m             \u001b[0mdist\u001b[0m \u001b[0;34m=\u001b[0m \u001b[0mnp\u001b[0m\u001b[0;34m.\u001b[0m\u001b[0msqrt\u001b[0m\u001b[0;34m(\u001b[0m\u001b[0mnp\u001b[0m\u001b[0;34m.\u001b[0m\u001b[0meinsum\u001b[0m\u001b[0;34m(\u001b[0m\u001b[0;34m'ij,ij'\u001b[0m\u001b[0;34m,\u001b[0m \u001b[0ma_min_b\u001b[0m\u001b[0;34m,\u001b[0m \u001b[0ma_min_b\u001b[0m\u001b[0;34m)\u001b[0m\u001b[0;34m)\u001b[0m\u001b[0;34m\u001b[0m\u001b[0m\n\u001b[0m\u001b[1;32m     56\u001b[0m             \u001b[0;31m# Keep distances only in a defined range\u001b[0m\u001b[0;34m\u001b[0m\u001b[0;34m\u001b[0m\u001b[0m\n\u001b[1;32m     57\u001b[0m             \u001b[0;32mif\u001b[0m \u001b[0mdist_range\u001b[0m\u001b[0;34m[\u001b[0m\u001b[0;36m0\u001b[0m\u001b[0;34m]\u001b[0m \u001b[0;34m<=\u001b[0m \u001b[0mdist\u001b[0m \u001b[0;34m<=\u001b[0m \u001b[0mdist_range\u001b[0m\u001b[0;34m[\u001b[0m\u001b[0;36m1\u001b[0m\u001b[0;34m]\u001b[0m\u001b[0;34m:\u001b[0m\u001b[0;34m\u001b[0m\u001b[0m\n",
      "\u001b[0;32m~/miniconda3/lib/python3.6/site-packages/numpy/core/einsumfunc.py\u001b[0m in \u001b[0;36meinsum\u001b[0;34m(*operands, **kwargs)\u001b[0m\n\u001b[1;32m   1226\u001b[0m     \u001b[0;31m# If no optimization, run pure einsum\u001b[0m\u001b[0;34m\u001b[0m\u001b[0;34m\u001b[0m\u001b[0m\n\u001b[1;32m   1227\u001b[0m     \u001b[0;32mif\u001b[0m \u001b[0moptimize_arg\u001b[0m \u001b[0;32mis\u001b[0m \u001b[0;32mFalse\u001b[0m\u001b[0;34m:\u001b[0m\u001b[0;34m\u001b[0m\u001b[0m\n\u001b[0;32m-> 1228\u001b[0;31m         \u001b[0;32mreturn\u001b[0m \u001b[0mc_einsum\u001b[0m\u001b[0;34m(\u001b[0m\u001b[0;34m*\u001b[0m\u001b[0moperands\u001b[0m\u001b[0;34m,\u001b[0m \u001b[0;34m**\u001b[0m\u001b[0mkwargs\u001b[0m\u001b[0;34m)\u001b[0m\u001b[0;34m\u001b[0m\u001b[0m\n\u001b[0m\u001b[1;32m   1229\u001b[0m \u001b[0;34m\u001b[0m\u001b[0m\n\u001b[1;32m   1230\u001b[0m     \u001b[0mvalid_einsum_kwargs\u001b[0m \u001b[0;34m=\u001b[0m \u001b[0;34m[\u001b[0m\u001b[0;34m'out'\u001b[0m\u001b[0;34m,\u001b[0m \u001b[0;34m'dtype'\u001b[0m\u001b[0;34m,\u001b[0m \u001b[0;34m'order'\u001b[0m\u001b[0;34m,\u001b[0m \u001b[0;34m'casting'\u001b[0m\u001b[0;34m]\u001b[0m\u001b[0;34m\u001b[0m\u001b[0m\n",
      "\u001b[0;31mValueError\u001b[0m: einstein sum subscripts string contains too many subscripts for operand 0"
     ]
    }
   ],
   "source": [
    "dist_matrix = calc_dist_matrix(query, template, dist_range, gap_penalty)"
   ]
  },
  {
   "cell_type": "code",
   "execution_count": null,
   "metadata": {},
   "outputs": [],
   "source": []
  }
 ],
 "metadata": {
  "kernelspec": {
   "display_name": "Python 3",
   "language": "python",
   "name": "python3"
  },
  "language_info": {
   "codemirror_mode": {
    "name": "ipython",
    "version": 3
   },
   "file_extension": ".py",
   "mimetype": "text/x-python",
   "name": "python",
   "nbconvert_exporter": "python",
   "pygments_lexer": "ipython3",
   "version": "3.6.6"
  }
 },
 "nbformat": 4,
 "nbformat_minor": 2
}
