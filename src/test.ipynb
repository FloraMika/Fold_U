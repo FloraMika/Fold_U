{
 "cells": [
  {
   "cell_type": "code",
   "execution_count": 4,
   "metadata": {},
   "outputs": [],
   "source": [
    "import numpy as np\n",
    "from Bio.PDB import *\n",
    "import time"
   ]
  },
  {
   "cell_type": "code",
   "execution_count": 2,
   "metadata": {},
   "outputs": [],
   "source": [
    "def get_pdb(pdb):\n",
    "    p = PDBParser(QUIET=True) # QUIET=T : Warnings issued are suppressed\n",
    "    pdb = p.get_structure(pdb,pdb)\n",
    "\n",
    "    resList = [] # List of Residue instances\n",
    "\n",
    "    for chain in pdb.get_chains():\n",
    "        # First residue of the current chain\n",
    "        first = next(res.id[1] for res in chain.get_residues() if (res.id[1] < 99999))\n",
    "\n",
    "        # Last residue of the current chain\n",
    "        for res in chain.get_residues():\n",
    "            if (res.get_id()[0] != ' '):\n",
    "                break\n",
    "            last = res.get_id()[1]\n",
    "\n",
    "        for resNum in range(first,last+1):\n",
    "            r = Residue(chain, resNum)\n",
    "            resList.append(r)\n",
    "    return resList\n",
    "\n",
    "\n",
    "def calc_dist_matrix(query, template, dist_range):\n",
    "    \"\"\"\n",
    "        Calculate the matrix of distances of pair residues of the query sequence,\n",
    "        using the coordinates of the template sequence: threading of the query\n",
    "        on the template sequence. The distance calculation is optimized.\n",
    "\n",
    "        Args:\n",
    "            query: List of residues of the query sequence\n",
    "            template: List of residues of the template sequence\n",
    "            dist_range: Range of distances in angströms.\n",
    "                        Distances within this range only are taken into account\n",
    "\n",
    "        Returns:\n",
    "            2D numpy matrix: The distance matrix between pairs of residues of the\n",
    "            query sequence after being threaded on the template sequence.\n",
    "    \"\"\"\n",
    "\n",
    "    query_size = len(query)\n",
    "    matrix = np.empty((query_size, query_size))\n",
    "    # Use the query only for indexes\n",
    "    for i, _ in enumerate(query):\n",
    "        for j, _ in enumerate(query):\n",
    "            # Write a \"*\" if a gap is found in either query or template sequence\n",
    "            # The gap will be penalized later in processing\n",
    "            if template[i] == \"X\" or template[j] == \"X\":\n",
    "                matrix[i, j] = \"*\"\n",
    "            # One of the most efficient method to calculate the distances\n",
    "            # https://stackoverflow.com/a/47775357/6401758\n",
    "            # distance = sqrt((xa-xb)**2 + (ya-yb)**2 + (za-zb)**2)\n",
    "            dist = np.linalg.norm(template[i].CA_coords - template[j].CA_coords)\n",
    "            # Keep distances only in a defined range because we don't want to\n",
    "            # take into account directly bonded residues (dist < ~5) and too far residues\n",
    "            if dist_range[0] <= dist <= dist_range[1]:\n",
    "                matrix[i, j] = dist\n",
    "    return matrix\n",
    "\n",
    "\n",
    "class Residue:\n",
    "    \"\"\"Class that groups informations about a residue.\"\"\"\n",
    "    def __init__(self, chain, resNum):\n",
    "        \"\"\"The constructor of an instance of the Residue class.\"\"\"\n",
    "        self.resNum = resNum\n",
    "        self.resName = chain[self.resNum].get_resname()\n",
    "        self.CA_coords = chain[self.resNum]['CA'].get_vector()"
   ]
  },
  {
   "cell_type": "code",
   "execution_count": 3,
   "metadata": {},
   "outputs": [],
   "source": [
    "query = \"AGLPVIMCLKSNNHQKYLRYQSDNIQQYGLLQFSADKILDPLAQFEVEPSKTYDGLVHIKSRYTNKYLVRWSPNHYWITASANEPDENKSNWACTLFKPLYVEEGNMKKVRLLHVQLGHYTQNYTVGGSFVSYLFAESSQIDTGSKDVFHVID\"\n",
    "template = get_pdb(\"../data/1jlxa1.atm\")\n",
    "dist_range = [5, 10]"
   ]
  },
  {
   "cell_type": "code",
   "execution_count": 13,
   "metadata": {},
   "outputs": [
    {
     "name": "stdout",
     "output_type": "stream",
     "text": [
      "CPU times: user 480 ms, sys: 33.4 ms, total: 513 ms\n",
      "Wall time: 459 ms\n"
     ]
    }
   ],
   "source": [
    "%%time\n",
    "matrix = calc_dist_matrix(query, template, dist_range)"
   ]
  }
 ],
 "metadata": {
  "kernelspec": {
   "display_name": "Python 3",
   "language": "python",
   "name": "python3"
  },
  "language_info": {
   "codemirror_mode": {
    "name": "ipython",
    "version": 3
   },
   "file_extension": ".py",
   "mimetype": "text/x-python",
   "name": "python",
   "nbconvert_exporter": "python",
   "pygments_lexer": "ipython3",
   "version": "3.6.6"
  }
 },
 "nbformat": 4,
 "nbformat_minor": 2
}
